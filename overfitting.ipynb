{
  "nbformat": 4,
  "nbformat_minor": 0,
  "metadata": {
    "colab": {
      "name": "Mandrekar_02.ipynb",
      "provenance": [],
      "collapsed_sections": []
    },
    "kernelspec": {
      "name": "python3",
      "display_name": "Python 3"
    },
    "language_info": {
      "name": "python"
    }
  },
  "cells": [
    {
      "cell_type": "code",
      "metadata": {
        "id": "Up13VRD3yhvs"
      },
      "source": [
        "import numpy as np\n",
        "import matplotlib.pyplot as plt"
      ],
      "execution_count": 1,
      "outputs": []
    },
    {
      "cell_type": "code",
      "metadata": {
        "colab": {
          "base_uri": "https://localhost:8080/",
          "height": 687
        },
        "id": "E5ipn81lmB9b",
        "outputId": "2c67868c-8e08-44b3-b60d-388aee06135f"
      },
      "source": [
        "# rand = np.random.RandomState(20) \n",
        "x=np.random.uniform(0,1,20)\n",
        "print('showing values of x : ',x)\n",
        "\n",
        "plt.hist(x)\n",
        "plt.title('values of x')\n",
        "plt.show()\n",
        "\n",
        "N=np.random.normal(size=20)\n",
        "print('showing values of N : ',N)\n",
        "\n",
        "plt.hist(N)\n",
        "plt.title('values of N')\n",
        "plt.show()\n"
      ],
      "execution_count": 2,
      "outputs": [
        {
          "output_type": "stream",
          "text": [
            "showing values of x :  [0.44458056 0.48337472 0.75589225 0.40563666 0.93817011 0.68156081\n",
            " 0.02971276 0.08444494 0.47458665 0.41388697 0.59826569 0.13607315\n",
            " 0.1000669  0.4629599  0.65878336 0.03998587 0.65394746 0.97760472\n",
            " 0.69635495 0.1769558 ]\n"
          ],
          "name": "stdout"
        },
        {
          "output_type": "display_data",
          "data": {
            "image/png": "[encoded data removed]",
            "text/plain": [
              "<Figure size 432x288 with 1 Axes>"
            ]
          },
          "metadata": {
            "tags": [],
            "needs_background": "light"
          }
        },
        {
          "output_type": "stream",
          "text": [
            "showing values of N :  [ 0.44349841 -0.507076   -0.30763293 -0.98410973  0.58969717 -1.347633\n",
            "  1.03237418 -1.30472548  0.33244919 -0.72722029  0.12283441 -1.19301936\n",
            " -1.05293948  0.34501455 -0.48303383  0.67111298 -0.57775843 -0.68040563\n",
            " -0.57571651 -1.95494733]\n"
          ],
          "name": "stdout"
        },
        {
          "output_type": "display_data",
          "data": {
            "image/png": "[encoded data removed]",
            "text/plain": [
              "<Figure size 432x288 with 1 Axes>"
            ]
          },
          "metadata": {
            "tags": [],
            "needs_background": "light"
          }
        }
      ]
    },
    {
      "cell_type": "code",
      "metadata": {
        "colab": {
          "base_uri": "https://localhost:8080/",
          "height": 597
        },
        "id": "XPiTQg0VmMVu",
        "outputId": "60201fa4-23ec-40ad-fca9-e218928e1976"
      },
      "source": [
        "import math\n",
        "y=[]\n",
        "for i in range(20):\n",
        "  # print(i)\n",
        "  y.append((math.sin(x[i]*3.142*2))+(N[i])*0.2)\n",
        "print('Values of y : ',y)\n",
        "\n",
        "plt.hist(y)\n",
        "plt.title('values of y')\n",
        "plt.show()\n",
        "\n",
        "plt.scatter(x,y)\n",
        "plt.title('all data points')\n",
        "plt.xlabel('x')\n",
        "plt.ylabel('y')\n",
        "plt.show()"
      ],
      "execution_count": 48,
      "outputs": [
        {
          "output_type": "stream",
          "text": [
            "Values of y :  [0.42957553405617344, 0.002462997394387184, -1.0608183645982825, 0.3616743185964057, -0.26014321213851127, -1.1787169835841307, 0.39210679737896637, 0.24515070627155472, 0.22510723446087633, 0.36931531995544187, -0.5547651526654118, 0.516021951366568, 0.3776033137595529, 0.2992704659221117, -0.9371049288997655, 0.3828580486930958, -0.9391992070549361, -0.275542309835569, -1.0590612282059162, 0.5055924383654123]\n"
          ],
          "name": "stdout"
        },
        {
          "output_type": "display_data",
          "data": {
            "image/png": "[encoded data removed]",
            "text/plain": [
              "<Figure size 432x288 with 1 Axes>"
            ]
          },
          "metadata": {
            "tags": [],
            "needs_background": "light"
          }
        },
        {
          "output_type": "display_data",
          "data": {
            "image/png": "[encoded data removed]",
            "text/plain": [
              "<Figure size 432x288 with 1 Axes>"
            ]
          },
          "metadata": {
            "tags": [],
            "needs_background": "light"
          }
        }
      ]
    },
    {
      "cell_type": "code",
      "metadata": {
        "colab": {
          "base_uri": "https://localhost:8080/"
        },
        "id": "xUZC40UB02av",
        "outputId": "e9c5d93e-7b13-4a4a-959b-527cb15a54d5"
      },
      "source": [
        "train_y=[]\n",
        "test_y=[]\n",
        "train_x=[]\n",
        "test_x=[]\n",
        "for i in range(20):\n",
        "  if(i%2==0):\n",
        "    train_y.append(y[i])\n",
        "    train_x.append(x[i])\n",
        "  else:\n",
        "    test_y.append(y[i])\n",
        "    test_x.append(x[i])\n",
        "\n",
        "print(\"training set for y : \",train_y)\n",
        "print(\"training set for x : \",train_x)\n",
        "print(\"test set for y : \",test_y)\n",
        "print(\"test set for x : \",test_x)\n",
        "\n",
        "train_y=np.array(train_y)\n",
        "test_y=np.array(test_y)\n",
        "train_x=np.array(train_x)\n",
        "test_x=np.array(test_x)\n",
        "\n",
        "train_x=train_x.reshape(-1, 1)\n",
        "train_y=train_y.reshape(-1, 1)\n",
        "test_x=test_x.reshape(-1,1)\n",
        "test_y=test_y.reshape(-1,1)\n",
        "\n",
        "\n",
        "# plt.scatter(x,train_y)\n",
        "# plt.title('Training data points')\n",
        "# plt.xlabel('x')\n",
        "# plt.ylabel('y')\n",
        "# plt.show()\n",
        "\n",
        "# plt.scatter(x,test_set)\n",
        "# plt.title('Training data points')\n",
        "# plt.xlabel('x')\n",
        "# plt.ylabel('y')\n",
        "# plt.show()\n",
        "\n"
      ],
      "execution_count": 49,
      "outputs": [
        {
          "output_type": "stream",
          "text": [
            "training set for y :  [0.42957553405617344, -1.0608183645982825, -0.26014321213851127, 0.39210679737896637, 0.22510723446087633, -0.5547651526654118, 0.3776033137595529, -0.9371049288997655, -0.9391992070549361, -1.0590612282059162]\n",
            "training set for x :  [0.4445805638506861, 0.7558922460195984, 0.938170110820013, 0.029712756683638486, 0.4745866471056126, 0.5982656921222717, 0.10006690204306057, 0.6587833632122513, 0.6539474557965732, 0.6963549536809621]\n",
            "test set for y :  [0.002462997394387184, 0.3616743185964057, -1.1787169835841307, 0.24515070627155472, 0.36931531995544187, 0.516021951366568, 0.2992704659221117, 0.3828580486930958, -0.275542309835569, 0.5055924383654123]\n",
            "test set for x :  [0.48337471748526306, 0.40563665969002094, 0.6815608141105605, 0.0844449427302495, 0.4138869654040448, 0.1360731501774779, 0.462959903739686, 0.039985870985992156, 0.9776047177550461, 0.17695580239174558]\n"
          ],
          "name": "stdout"
        }
      ]
    },
    {
      "cell_type": "code",
      "metadata": {
        "id": "tzYmgKml2P-5"
      },
      "source": [
        "from sklearn.preprocessing import PolynomialFeatures\n",
        "# from sklearn.pipeline import make_pipeline\n",
        "from sklearn.linear_model import LinearRegression\n",
        "# from sklearn.pipeline import Pipeline\n",
        "# from sklearn.preprocessing import StandardScaler\n",
        "from sklearn.metrics import r2_score\n",
        "from sklearn.metrics import mean_squared_error"
      ],
      "execution_count": 50,
      "outputs": []
    },
    {
      "cell_type": "code",
      "metadata": {
        "id": "5QAjBSXs_5Hm"
      },
      "source": [
        "# train_x=np.array(train_x)\n",
        "# train_y=np.array(train_y)\n",
        "# train_x.reshape(-1)\n",
        "# train_y.reshape(-1)\n",
        "# polyreg=make_pipeline(PolynomialFeatures(9),LinearRegression())\n",
        "# polyreg.fit(train_x,train_y)\n",
        "\n",
        "\n",
        "# reference : https://moonbooks.org/Articles/How-to-implement-a-polynomial-linear-regression-using-scikit-learn-and-python-3-/\n",
        "def Regression(i):\n",
        "    polynomial_features = PolynomialFeatures(degree = i)\n",
        "    x_transf=polynomial_features.fit_transform(train_x)\n",
        "    \n",
        "    model=LinearRegression()\n",
        "    model.fit(x_transf,train_y)\n",
        "\n",
        "    y_new=model.predict(x_transf)\n",
        "\n",
        "    #training error\n",
        "    rmse=np.sqrt(mean_squared_error(train_y,y_new))\n",
        "    #test error\n",
        "    rmse2=np.sqrt(mean_squared_error(test_y,y_new))\n",
        "    \n",
        "    r2=r2_score(test_y,y_new)\n",
        "    \n",
        "    print('RMSE of degree ',i,': ',rmse2)\n",
        "    print('R2 of degree ',i,': ',r2)\n",
        "\n",
        "    return polynomial_features, model\n",
        "\n",
        "\n",
        "\n"
      ],
      "execution_count": 51,
      "outputs": []
    },
    {
      "cell_type": "code",
      "metadata": {
        "colab": {
          "base_uri": "https://localhost:8080/"
        },
        "id": "ILGhaOLVAT_S",
        "outputId": "f513d33d-d8ea-4591-c2e9-d7adc614d922"
      },
      "source": [
        "polynomial0, model0 = Regression(0)\n",
        "weights0=model0.coef_ #https://stackoverflow.com/questions/47303261/getting-weights-of-features-using-scikit-learn-logistic-regression\n",
        "w0=weights0.copy()\n",
        "w0.resize(10,refcheck=False) #https://stackoverflow.com/questions/38191855/zero-pad-numpy-array\n",
        "print('weights for degree 0: ',w0)\n",
        "\n",
        "polynomial1, model1 = Regression(1)\n",
        "weights1=model1.coef_  \n",
        "w1=weights1.copy()\n",
        "w1.resize(10,refcheck=False)\n",
        "print('weights for degree 1: ',w1)\n",
        "\n",
        "polynomial3, model3 = Regression(3)\n",
        "weights3=model3.coef_\n",
        "w3=weights3.copy()\n",
        "w3.resize(10,refcheck=False)\n",
        "print('weights for degree 3: ',w3)\n",
        "\n",
        "polynomial9, model9 = Regression(9)\n",
        "weights9=model9.coef_\n",
        "w9=weights9.copy()\n",
        "w9.resize(10,refcheck=False)\n",
        "print('weights for degree 9: ',w9)\n"
      ],
      "execution_count": 56,
      "outputs": [
        {
          "output_type": "stream",
          "text": [
            "RMSE of degree  0 :  0.6730122726137248\n",
            "R2 of degree  0 :  -0.8874066449419691\n",
            "weights for degree 0:  [0. 0. 0. 0. 0. 0. 0. 0. 0. 0.]\n",
            "RMSE of degree  1 :  0.685202431842373\n",
            "R2 of degree  1 :  -0.9563984199451707\n",
            "weights for degree 1:  [ 0.         -1.63318837  0.          0.          0.          0.\n",
            "  0.          0.          0.          0.        ]\n",
            "RMSE of degree  3 :  0.9206049785324874\n",
            "R2 of degree  3 :  -2.5315564326817497\n",
            "weights for degree 3:  [  0.          13.09652022 -38.60901703  26.16121597   0.\n",
            "   0.           0.           0.           0.           0.        ]\n",
            "RMSE of degree  9 :  0.9421085529554575\n",
            "R2 of degree  9 :  -2.698464080930323\n",
            "weights for degree 9:  [ 0.00000000e+00 -4.06328130e+04  6.54904617e+05 -4.69099621e+06\n",
            "  1.84322323e+07 -4.35460560e+07  6.37286368e+07 -5.67057034e+07\n",
            "  2.81530801e+07 -5.98715110e+06]\n"
          ],
          "name": "stdout"
        }
      ]
    },
    {
      "cell_type": "code",
      "metadata": {
        "colab": {
          "base_uri": "https://localhost:8080/"
        },
        "id": "YiaIFxeUnLeL",
        "outputId": "5b25009e-9f58-477a-b3e4-4ecf747f35f1"
      },
      "source": [
        "# https://www.geeksforgeeks.org/creating-tables-with-prettytable-library-python/\n",
        "\n",
        "from prettytable import PrettyTable\n",
        "\n",
        "mytable=PrettyTable()\n",
        "\n",
        "columns=['','Order 0','Order 1','Order 3','Order 9']\n",
        "\n",
        "mytable.add_column(columns[0],['W0','W1','W2','W3','W4','W5','W6','W7','W8','W9'])\n",
        "mytable.add_column(columns[1],w0)\n",
        "mytable.add_column(columns[2],w1)\n",
        "mytable.add_column(columns[3],w3)\n",
        "mytable.add_column(columns[4],w9)\n",
        "\n",
        "print(mytable)"
      ],
      "execution_count": 58,
      "outputs": [
        {
          "output_type": "stream",
          "text": [
            "+----+---------+---------------------+--------------------+---------------------+\n",
            "|    | Order 0 |       Order 1       |      Order 3       |       Order 9       |\n",
            "+----+---------+---------------------+--------------------+---------------------+\n",
            "| W0 |   0.0   |         0.0         |        0.0         |         0.0         |\n",
            "| W1 |   0.0   | -1.6331883656882527 | 13.096520221169634 |  -40632.81298209521 |\n",
            "| W2 |   0.0   |         0.0         | -38.60901702761481 |  654904.6167027741  |\n",
            "| W3 |   0.0   |         0.0         | 26.161215969029215 | -4690996.2079880135 |\n",
            "| W4 |   0.0   |         0.0         |        0.0         |  18432232.29890895  |\n",
            "| W5 |   0.0   |         0.0         |        0.0         | -43546055.950364575 |\n",
            "| W6 |   0.0   |         0.0         |        0.0         |  63728636.830020435 |\n",
            "| W7 |   0.0   |         0.0         |        0.0         | -56705703.395017125 |\n",
            "| W8 |   0.0   |         0.0         |        0.0         |  28153080.084139224 |\n",
            "| W9 |   0.0   |         0.0         |        0.0         |  -5987151.09611977  |\n",
            "+----+---------+---------------------+--------------------+---------------------+\n"
          ],
          "name": "stdout"
        }
      ]
    },
    {
      "cell_type": "code",
      "metadata": {
        "colab": {
          "base_uri": "https://localhost:8080/",
          "height": 1000
        },
        "id": "QtPS_xRjrTUB",
        "outputId": "5daa747c-9adb-486d-ec29-3c332260094a"
      },
      "source": [
        "xnew=np.linspace(0,1,100)\n",
        "xnew=np.array(xnew)\n",
        "xnew=xnew.reshape(-1,1)\n",
        "x_trans0=polynomial0.fit_transform(xnew)\n",
        "y0=model0.predict(x_trans0)\n",
        "plt.scatter(x,y)\n",
        "plt.plot(xnew,y0)\n",
        "plt.show()\n",
        "\n",
        "\n",
        "x_trans1=polynomial1.fit_transform(xnew)\n",
        "y1=model1.predict(x_trans1)\n",
        "plt.scatter(x,y)\n",
        "plt.plot(xnew,y1)\n",
        "plt.show()\n",
        "\n",
        "x_trans3=polynomial3.fit_transform(xnew)\n",
        "y3=model3.predict(x_trans3)\n",
        "plt.scatter(x,y)\n",
        "plt.plot(xnew,y3)\n",
        "plt.show()\n",
        "\n",
        "x_trans9=polynomial9.fit_transform(xnew)\n",
        "y9=model9.predict(x_trans9)\n",
        "plt.scatter(x,y)\n",
        "plt.plot(xnew,y9)\n",
        "plt.show()\n"
      ],
      "execution_count": 54,
      "outputs": [
        {
          "output_type": "display_data",
          "data": {
            "image/png": "[encoded data removed]",
            "text/plain": [
              "<Figure size 432x288 with 1 Axes>"
            ]
          },
          "metadata": {
            "tags": [],
            "needs_background": "light"
          }
        },
        {
          "output_type": "display_data",
          "data": {
            "image/png": "[encoded data removed]",
            "text/plain": [
              "<Figure size 432x288 with 1 Axes>"
            ]
          },
          "metadata": {
            "tags": [],
            "needs_background": "light"
          }
        },
        {
          "output_type": "display_data",
          "data": {
            "image/png": "[encoded data removed]",
            "text/plain": [
              "<Figure size 432x288 with 1 Axes>"
            ]
          },
          "metadata": {
            "tags": [],
            "needs_background": "light"
          }
        },
        {
          "output_type": "display_data",
          "data": {
            "image/png": "[encoded data removed]",
            "text/plain": [
              "<Figure size 432x288 with 1 Axes>"
            ]
          },
          "metadata": {
            "tags": [],
            "needs_background": "light"
          }
        }
      ]
    },
    {
      "cell_type": "code",
      "metadata": {
        "colab": {
          "base_uri": "https://localhost:8080/",
          "height": 320
        },
        "id": "L9lPKtn0Dncj",
        "outputId": "7e1587d8-0f41-437d-87c5-6b6ff5dbede7"
      },
      "source": [
        "train_errors=[]\n",
        "test_errors=[]\n",
        "# print(test_x.shape)\n",
        "# print(test_y.shape)\n",
        "\n",
        "for i in range (0,10):\n",
        "  polynomial_features = PolynomialFeatures(degree = i)\n",
        "  x_transf=polynomial_features.fit_transform(train_x)\n",
        "    \n",
        "  model=LinearRegression()\n",
        "  model.fit(x_transf,train_y)\n",
        "\n",
        "  y_new=model.predict(x_transf)\n",
        "\n",
        "  #training error\n",
        "  rmse=np.sqrt(mean_squared_error(train_y,y_new))\n",
        "  #test error\n",
        "  x_transf=polynomial_features.fit_transform(test_x)\n",
        "  y_new=model.predict(x_transf)\n",
        "  rmse2=np.sqrt(mean_squared_error(test_y,y_new))\n",
        "\n",
        "  train_errors.append(rmse)\n",
        "  test_errors.append(rmse2)\n",
        "\n",
        "\n",
        "print(train_errors)\n",
        "print(test_errors)\n",
        "models= np.linspace(0, 9, 10)\n",
        "plt.plot(models,train_errors,label = 'train error', color = 'blue')\n",
        "plt.plot(models,test_errors,label = 'test error', color = 'red')\n",
        "plt.legend()\n",
        "plt.show()\n",
        "\n",
        "\n",
        "\n",
        "\n"
      ],
      "execution_count": 60,
      "outputs": [
        {
          "output_type": "stream",
          "text": [
            "[0.6137762788283471, 0.427512293562123, 0.419419767685851, 0.15951105145472547, 0.0832352642751276, 0.02399299567774894, 0.017263353361765873, 0.013107346813858856, 0.00562894170505559, 4.916311737495675e-09]\n",
            "[0.6730122726137248, 0.44201316118634526, 0.4480009146104524, 0.29848053586805784, 0.2708146137857355, 0.16717524959106064, 0.16299641282020896, 0.6340641184862053, 3.399538424792791, 161.22217451679396]\n"
          ],
          "name": "stdout"
        },
        {
          "output_type": "display_data",
          "data": {
            "image/png": "[encoded data removed]",
            "text/plain": [
              "<Figure size 432x288 with 1 Axes>"
            ]
          },
          "metadata": {
            "tags": [],
            "needs_background": "light"
          }
        }
      ]
    },
    {
      "cell_type": "code",
      "metadata": {
        "id": "NFvQ0ZBrpeQu"
      },
      "source": [
        ""
      ],
      "execution_count": null,
      "outputs": []
    }
  ]
}