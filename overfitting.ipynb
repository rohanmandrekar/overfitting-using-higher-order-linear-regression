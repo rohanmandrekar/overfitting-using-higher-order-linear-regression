{
  "nbformat": 4,
  "nbformat_minor": 0,
  "metadata": {
    "colab": {
      "name": "Mandrekar_02.ipynb",
      "provenance": [],
      "collapsed_sections": []
    },
    "kernelspec": {
      "name": "python3",
      "display_name": "Python 3"
    },
    "language_info": {
      "name": "python"
    }
  },
  "cells": [
    {
      "cell_type": "code",
      "metadata": {
        "id": "Up13VRD3yhvs"
      },
      "source": [
        "import numpy as np\n",
        "import matplotlib.pyplot as plt"
      ],
      "execution_count": 90,
      "outputs": []
    },
    {
      "cell_type": "code",
      "metadata": {
        "colab": {
          "base_uri": "https://localhost:8080/",
          "height": 678
        },
        "id": "E5ipn81lmB9b",
        "outputId": "092cf6f3-6e42-4b45-81b7-d9053a0eb57d"
      },
      "source": [
        "# rand = np.random.RandomState(20) \n",
        "x=np.random.uniform(0,1,20)\n",
        "print('showing values of x : ',x)\n",
        "\n",
        "plt.hist(x)\n",
        "plt.title('values of x')\n",
        "plt.show()\n",
        "\n",
        "N=np.random.normal(size=20)\n",
        "print('showing values of N : ',N)\n",
        "\n",
        "plt.hist(N)\n",
        "plt.title('values of N')\n",
        "plt.show()\n"
      ],
      "execution_count": 91,
      "outputs": [
        {
          "output_type": "stream",
          "text": [
            "showing values of x :  [0.68760945 0.60246784 0.35140311 0.48242433 0.90847754 0.02282222\n",
            " 0.47699214 0.81247349 0.05949701 0.61782024 0.13236131 0.04652689\n",
            " 0.05261632 0.19464166 0.65291293 0.50485892 0.37366519 0.48830228\n",
            " 0.49719026 0.45257944]\n"
          ],
          "name": "stdout"
        },
        {
          "output_type": "display_data",
          "data": {
            "image/png": "[encoded data removed]",
            "text/plain": [
              "<Figure size 432x288 with 1 Axes>"
            ]
          },
          "metadata": {
            "tags": [],
            "needs_background": "light"
          }
        },
        {
          "output_type": "stream",
          "text": [
            "showing values of N :  [-1.03452051 -0.51860748 -0.37168649 -0.03915667 -0.06356929  0.55808854\n",
            " -0.41022983  1.63144502  0.41554421  0.3224582  -0.28515612 -2.87011257\n",
            "  0.1933955  -0.98042991 -0.12202585 -0.25787897  0.76715645 -0.10671363\n",
            "  0.3025628  -0.70213268]\n"
          ],
          "name": "stdout"
        },
        {
          "output_type": "display_data",
          "data": {
            "image/png": "[encoded data removed]",
            "text/plain": [
              "<Figure size 432x288 with 1 Axes>"
            ]
          },
          "metadata": {
            "tags": [],
            "needs_background": "light"
          }
        }
      ]
    },
    {
      "cell_type": "code",
      "metadata": {
        "colab": {
          "base_uri": "https://localhost:8080/",
          "height": 596
        },
        "id": "XPiTQg0VmMVu",
        "outputId": "c465402e-7e72-469d-b1f9-17f2b62de6cd"
      },
      "source": [
        "import math\n",
        "y=[]\n",
        "for i in range(20):\n",
        "  # print(i)\n",
        "  y.append((math.sin(x[i])*3.142)+(N[i]*0.2))\n",
        "print('Values of y : ',y)\n",
        "\n",
        "plt.hist(y)\n",
        "plt.title('values of y')\n",
        "plt.show()\n",
        "\n",
        "plt.scatter(x,y)\n",
        "plt.title('all data points')\n",
        "plt.xlabel('x')\n",
        "plt.ylabel('y')\n",
        "plt.show()"
      ],
      "execution_count": 92,
      "outputs": [
        {
          "output_type": "stream",
          "text": [
            "Values of y :  [1.7872971077613442, 1.6767793612901112, 1.0071878317009888, 1.4498310244181414, 2.464968118406061, 0.18331890892584807, 1.360474921161064, 2.6073509138498636, 0.2699381611675063, 1.8845256761337956, 0.35763475681706697, -0.4278877612815793, 0.20392331121170088, 0.41162385904468113, 1.8843685330262387, 1.4681592355847513, 1.3003560156171603, 1.4526551137023556, 1.5591141989476043, 1.2335283699205637]\n"
          ],
          "name": "stdout"
        },
        {
          "output_type": "display_data",
          "data": {
            "image/png": "[encoded data removed]",
            "text/plain": [
              "<Figure size 432x288 with 1 Axes>"
            ]
          },
          "metadata": {
            "tags": [],
            "needs_background": "light"
          }
        },
        {
          "output_type": "display_data",
          "data": {
            "image/png": "[encoded data removed]",
            "text/plain": [
              "<Figure size 432x288 with 1 Axes>"
            ]
          },
          "metadata": {
            "tags": [],
            "needs_background": "light"
          }
        }
      ]
    },
    {
      "cell_type": "code",
      "metadata": {
        "colab": {
          "base_uri": "https://localhost:8080/"
        },
        "id": "xUZC40UB02av",
        "outputId": "1f898b66-e5bc-4e03-839e-40a89c5b52f9"
      },
      "source": [
        "train_y=[]\n",
        "test_y=[]\n",
        "train_x=[]\n",
        "test_x=[]\n",
        "for i in range(20):\n",
        "  if(i%2==0):\n",
        "    train_y.append(y[i])\n",
        "    train_x.append(x[i])\n",
        "  else:\n",
        "    test_y.append(y[i])\n",
        "    test_x.append(x[i])\n",
        "\n",
        "print(\"training set for y : \",train_y)\n",
        "print(\"training set for x : \",train_x)\n",
        "print(\"test set for y : \",test_y)\n",
        "print(\"test set for x : \",test_x)\n",
        "\n",
        "train_y=np.array(train_y)\n",
        "test_y=np.array(test_y)\n",
        "train_x=np.array(train_x)\n",
        "test_x=np.array(test_x)\n",
        "\n",
        "train_x=train_x.reshape(-1, 1)\n",
        "train_y=train_y.reshape(-1, 1)\n",
        "test_x=test_x.reshape(-1,1)\n",
        "test_y=test_y.reshape(-1,1)\n",
        "\n",
        "\n",
        "# plt.scatter(x,train_y)\n",
        "# plt.title('Training data points')\n",
        "# plt.xlabel('x')\n",
        "# plt.ylabel('y')\n",
        "# plt.show()\n",
        "\n",
        "# plt.scatter(x,test_set)\n",
        "# plt.title('Training data points')\n",
        "# plt.xlabel('x')\n",
        "# plt.ylabel('y')\n",
        "# plt.show()\n",
        "\n"
      ],
      "execution_count": 93,
      "outputs": [
        {
          "output_type": "stream",
          "text": [
            "training set for y :  [1.7872971077613442, 1.0071878317009888, 2.464968118406061, 1.360474921161064, 0.2699381611675063, 0.35763475681706697, 0.20392331121170088, 1.8843685330262387, 1.3003560156171603, 1.5591141989476043]\n",
            "training set for x :  [0.6876094519927783, 0.35140310638194827, 0.9084775380762851, 0.47699213541837093, 0.059497005527378355, 0.13236131483247537, 0.05261632118419324, 0.6529129282163466, 0.37366518588208264, 0.49719026346897477]\n",
            "test set for y :  [1.6767793612901112, 1.4498310244181414, 0.18331890892584807, 2.6073509138498636, 1.8845256761337956, -0.4278877612815793, 0.41162385904468113, 1.4681592355847513, 1.4526551137023556, 1.2335283699205637]\n",
            "test set for x :  [0.602467840595958, 0.4824243302718335, 0.02282222317299698, 0.8124734885684151, 0.6178202357343192, 0.046526890444878455, 0.19464165747424556, 0.5048589230809657, 0.48830228010506405, 0.45257943581855764]\n"
          ],
          "name": "stdout"
        }
      ]
    },
    {
      "cell_type": "code",
      "metadata": {
        "id": "tzYmgKml2P-5"
      },
      "source": [
        "from sklearn.preprocessing import PolynomialFeatures\n",
        "# from sklearn.pipeline import make_pipeline\n",
        "from sklearn.linear_model import LinearRegression\n",
        "# from sklearn.pipeline import Pipeline\n",
        "# from sklearn.preprocessing import StandardScaler\n",
        "from sklearn.metrics import r2_score\n",
        "from sklearn.metrics import mean_squared_error"
      ],
      "execution_count": 94,
      "outputs": []
    },
    {
      "cell_type": "code",
      "metadata": {
        "id": "5QAjBSXs_5Hm"
      },
      "source": [
        "# train_x=np.array(train_x)\n",
        "# train_y=np.array(train_y)\n",
        "# train_x.reshape(-1)\n",
        "# train_y.reshape(-1)\n",
        "# polyreg=make_pipeline(PolynomialFeatures(9),LinearRegression())\n",
        "# polyreg.fit(train_x,train_y)\n",
        "\n",
        "\n",
        "# reference : https://moonbooks.org/Articles/How-to-implement-a-polynomial-linear-regression-using-scikit-learn-and-python-3-/\n",
        "def Regression(i):\n",
        "    polynomial_features = PolynomialFeatures(degree = i)\n",
        "    x_transf=polynomial_features.fit_transform(train_x)\n",
        "    \n",
        "    model=LinearRegression()\n",
        "    model.fit(x_transf,train_y)\n",
        "\n",
        "    y_new=model.predict(x_transf)\n",
        "\n",
        "    #training error\n",
        "    rmse=np.sqrt(mean_squared_error(train_y,y_new))\n",
        "    #test error\n",
        "    rmse2=np.sqrt(mean_squared_error(test_y,y_new))\n",
        "    \n",
        "    r2=r2_score(test_y,y_new)\n",
        "    \n",
        "    print('RMSE of degree ',i,': ',rmse2)\n",
        "    print('R2 of degree ',i,': ',r2)\n",
        "\n",
        "    return polynomial_features, model\n",
        "\n",
        "\n",
        "\n"
      ],
      "execution_count": 95,
      "outputs": []
    },
    {
      "cell_type": "code",
      "metadata": {
        "colab": {
          "base_uri": "https://localhost:8080/"
        },
        "id": "ILGhaOLVAT_S",
        "outputId": "6128dea2-7ccc-4a77-8627-d6ee4b50ceba"
      },
      "source": [
        "polynomial0, model0 = Regression(0)\n",
        "weights0=model0.coef_ #https://stackoverflow.com/questions/47303261/getting-weights-of-features-using-scikit-learn-logistic-regression\n",
        "w0=weights0.copy()\n",
        "w0.resize(10,refcheck=False) #https://stackoverflow.com/questions/38191855/zero-pad-numpy-array\n",
        "print('weights for degree 0: ',w0)\n",
        "\n",
        "polynomial1, model1 = Regression(1)\n",
        "weights1=model1.coef_  \n",
        "w1=weights1.copy()\n",
        "w1.resize(10,refcheck=False)\n",
        "print('weights for degree 1: ',w1)\n",
        "\n",
        "polynomial3, model3 = Regression(3)\n",
        "weights3=model3.coef_\n",
        "w3=weights3.copy()\n",
        "w3.resize(10,refcheck=False)\n",
        "print('weights for degree 3: ',w3)\n",
        "\n",
        "polynomial9, model9 = Regression(9)\n",
        "weights9=model9.coef_\n",
        "w9=weights9.copy()\n",
        "w9.resize(10,refcheck=False)\n",
        "print('weights for degree 9: ',w9)\n"
      ],
      "execution_count": 96,
      "outputs": [
        {
          "output_type": "stream",
          "text": [
            "RMSE of degree  0 :  0.8477718203668966\n",
            "R2 of degree  0 :  -0.000908247355507763\n",
            "weights for degree 0:  [0. 0. 0. 0. 0. 0. 0. 0. 0. 0.]\n",
            "RMSE of degree  1 :  1.0441796041678983\n",
            "R2 of degree  1 :  -0.5184018573078111\n",
            "weights for degree 1:  [0.         2.64157684 0.         0.         0.         0.\n",
            " 0.         0.         0.         0.        ]\n",
            "RMSE of degree  3 :  1.0299202995885521\n",
            "R2 of degree  3 :  -0.4772144616761662\n",
            "weights for degree 3:  [ 0.          3.8755382  -2.48458207  1.31043862  0.          0.\n",
            "  0.          0.          0.          0.        ]\n",
            "RMSE of degree  9 :  1.0265612181795567\n",
            "R2 of degree  9 :  -0.46759431586838907\n",
            "weights for degree 9:  [ 0.00000000e+00 -7.15100686e+02  1.52651254e+04 -1.57173117e+05\n",
            "  8.80019766e+05 -2.87945682e+06  5.66445166e+06 -6.59065581e+06\n",
            "  4.17348719e+06 -1.10679807e+06]\n"
          ],
          "name": "stdout"
        }
      ]
    },
    {
      "cell_type": "code",
      "metadata": {
        "colab": {
          "base_uri": "https://localhost:8080/"
        },
        "id": "YiaIFxeUnLeL",
        "outputId": "321241f5-3d70-4e18-d806-5298ee1a3d72"
      },
      "source": [
        "# https://www.geeksforgeeks.org/creating-tables-with-prettytable-library-python/\n",
        "\n",
        "from prettytable import PrettyTable\n",
        "\n",
        "mytable=PrettyTable()\n",
        "\n",
        "columns=['','Order 0','Order 1','Order 3','Order 9']\n",
        "\n",
        "mytable.add_column(columns[0],['W0','W1','W2','W3','W4','W5','W6','W7','W8','W9'])\n",
        "mytable.add_column(columns[1],w0)\n",
        "mytable.add_column(columns[2],w1)\n",
        "mytable.add_column(columns[3],w3)\n",
        "mytable.add_column(columns[4],w9)\n",
        "\n",
        "print(mytable)"
      ],
      "execution_count": 97,
      "outputs": [
        {
          "output_type": "stream",
          "text": [
            "+----+---------+--------------------+--------------------+---------------------+\n",
            "|    | Order 0 |      Order 1       |      Order 3       |       Order 9       |\n",
            "+----+---------+--------------------+--------------------+---------------------+\n",
            "| W0 |   0.0   |        0.0         |        0.0         |         0.0         |\n",
            "| W1 |   0.0   | 2.6415768361420504 | 3.875538195771991  |  -715.1006860073261 |\n",
            "| W2 |   0.0   |        0.0         | -2.484582071310488 |  15265.12539614192  |\n",
            "| W3 |   0.0   |        0.0         | 1.3104386224790932 | -157173.11670710574 |\n",
            "| W4 |   0.0   |        0.0         |        0.0         |  880019.7658330793  |\n",
            "| W5 |   0.0   |        0.0         |        0.0         |  -2879456.81647286  |\n",
            "| W6 |   0.0   |        0.0         |        0.0         |  5664451.663802573  |\n",
            "| W7 |   0.0   |        0.0         |        0.0         | -6590655.8138944125 |\n",
            "| W8 |   0.0   |        0.0         |        0.0         |  4173487.186288738  |\n",
            "| W9 |   0.0   |        0.0         |        0.0         | -1106798.0659082355 |\n",
            "+----+---------+--------------------+--------------------+---------------------+\n"
          ],
          "name": "stdout"
        }
      ]
    },
    {
      "cell_type": "code",
      "metadata": {
        "colab": {
          "base_uri": "https://localhost:8080/",
          "height": 1000
        },
        "id": "QtPS_xRjrTUB",
        "outputId": "54778c13-e5a4-498f-c31b-625ac0b0623d"
      },
      "source": [
        "xnew=np.linspace(0,1,100)\n",
        "xnew=np.array(xnew)\n",
        "xnew=xnew.reshape(-1,1)\n",
        "x_trans0=polynomial0.fit_transform(xnew)\n",
        "y0=model0.predict(x_trans0)\n",
        "plt.scatter(x,y)\n",
        "plt.plot(xnew,y0)\n",
        "plt.show()\n",
        "\n",
        "\n",
        "x_trans1=polynomial1.fit_transform(xnew)\n",
        "y1=model1.predict(x_trans1)\n",
        "plt.scatter(x,y)\n",
        "plt.plot(xnew,y1)\n",
        "plt.show()\n",
        "\n",
        "x_trans3=polynomial3.fit_transform(xnew)\n",
        "y3=model3.predict(x_trans3)\n",
        "plt.scatter(x,y)\n",
        "plt.plot(xnew,y3)\n",
        "plt.show()\n",
        "\n",
        "x_trans9=polynomial9.fit_transform(xnew)\n",
        "y9=model9.predict(x_trans9)\n",
        "plt.scatter(x,y)\n",
        "plt.plot(xnew,y9)\n",
        "plt.show()\n"
      ],
      "execution_count": 102,
      "outputs": [
        {
          "output_type": "display_data",
          "data": {
            "image/png": "[encoded data removed]",
            "text/plain": [
              "<Figure size 432x288 with 1 Axes>"
            ]
          },
          "metadata": {
            "tags": [],
            "needs_background": "light"
          }
        },
        {
          "output_type": "display_data",
          "data": {
            "image/png": "[encoded data removed]",
            "text/plain": [
              "<Figure size 432x288 with 1 Axes>"
            ]
          },
          "metadata": {
            "tags": [],
            "needs_background": "light"
          }
        },
        {
          "output_type": "display_data",
          "data": {
            "image/png": "[encoded data removed]",
            "text/plain": [
              "<Figure size 432x288 with 1 Axes>"
            ]
          },
          "metadata": {
            "tags": [],
            "needs_background": "light"
          }
        },
        {
          "output_type": "display_data",
          "data": {
            "image/png": "[encoded data removed]",
            "text/plain": [
              "<Figure size 432x288 with 1 Axes>"
            ]
          },
          "metadata": {
            "tags": [],
            "needs_background": "light"
          }
        }
      ]
    },
    {
      "cell_type": "code",
      "metadata": {
        "colab": {
          "base_uri": "https://localhost:8080/",
          "height": 369
        },
        "id": "L9lPKtn0Dncj",
        "outputId": "1471036e-6bb3-410c-864c-1ed5fa76b0d1"
      },
      "source": [
        "train_errors=[]\n",
        "test_errors=[]\n",
        "degree=[0,1,2,3,4,5,6,7,8,9]\n",
        "for i in range(10):\n",
        "  polynomial_features = PolynomialFeatures(degree = i)\n",
        "  x_transf=polynomial_features.fit_transform(train_x)\n",
        "  model=LinearRegression()\n",
        "  score1=model.fit(x_transf,train_y)\n",
        "  y_pred=model.predict(test_x)\n",
        "\n",
        "  train_errors.append(score1.score(train_x,train_y))\n",
        "\n",
        "print(train_errors)\n",
        "\n",
        "\n"
      ],
      "execution_count": 109,
      "outputs": [
        {
          "output_type": "error",
          "ename": "ValueError",
          "evalue": "ignored",
          "traceback": [
            "\u001b[0;31m---------------------------------------------------------------------------\u001b[0m",
            "\u001b[0;31mValueError\u001b[0m                                Traceback (most recent call last)",
            "\u001b[0;32m<ipython-input-109-d86b926442f9>\u001b[0m in \u001b[0;36m<module>\u001b[0;34m()\u001b[0m\n\u001b[1;32m      8\u001b[0m   \u001b[0mmodel\u001b[0m\u001b[0;34m=\u001b[0m\u001b[0mLinearRegression\u001b[0m\u001b[0;34m(\u001b[0m\u001b[0;34m)\u001b[0m\u001b[0;34m\u001b[0m\u001b[0;34m\u001b[0m\u001b[0m\n\u001b[1;32m      9\u001b[0m   \u001b[0mscore1\u001b[0m\u001b[0;34m=\u001b[0m\u001b[0mmodel\u001b[0m\u001b[0;34m.\u001b[0m\u001b[0mfit\u001b[0m\u001b[0;34m(\u001b[0m\u001b[0mx_transf\u001b[0m\u001b[0;34m,\u001b[0m\u001b[0mtrain_y\u001b[0m\u001b[0;34m)\u001b[0m\u001b[0;34m\u001b[0m\u001b[0;34m\u001b[0m\u001b[0m\n\u001b[0;32m---> 10\u001b[0;31m   \u001b[0my_pred\u001b[0m\u001b[0;34m=\u001b[0m\u001b[0mmodel\u001b[0m\u001b[0;34m.\u001b[0m\u001b[0mpredict\u001b[0m\u001b[0;34m(\u001b[0m\u001b[0mtest_x\u001b[0m\u001b[0;34m)\u001b[0m\u001b[0;34m\u001b[0m\u001b[0;34m\u001b[0m\u001b[0m\n\u001b[0m\u001b[1;32m     11\u001b[0m \u001b[0;34m\u001b[0m\u001b[0m\n\u001b[1;32m     12\u001b[0m   \u001b[0mtrain_errors\u001b[0m\u001b[0;34m.\u001b[0m\u001b[0mappend\u001b[0m\u001b[0;34m(\u001b[0m\u001b[0mscore1\u001b[0m\u001b[0;34m.\u001b[0m\u001b[0mscore\u001b[0m\u001b[0;34m(\u001b[0m\u001b[0mtrain_x\u001b[0m\u001b[0;34m,\u001b[0m\u001b[0mtrain_y\u001b[0m\u001b[0;34m)\u001b[0m\u001b[0;34m)\u001b[0m\u001b[0;34m\u001b[0m\u001b[0;34m\u001b[0m\u001b[0m\n",
            "\u001b[0;32m/usr/local/lib/python3.7/dist-packages/sklearn/linear_model/_base.py\u001b[0m in \u001b[0;36mpredict\u001b[0;34m(self, X)\u001b[0m\n\u001b[1;32m    223\u001b[0m             \u001b[0mReturns\u001b[0m \u001b[0mpredicted\u001b[0m \u001b[0mvalues\u001b[0m\u001b[0;34m.\u001b[0m\u001b[0;34m\u001b[0m\u001b[0;34m\u001b[0m\u001b[0m\n\u001b[1;32m    224\u001b[0m         \"\"\"\n\u001b[0;32m--> 225\u001b[0;31m         \u001b[0;32mreturn\u001b[0m \u001b[0mself\u001b[0m\u001b[0;34m.\u001b[0m\u001b[0m_decision_function\u001b[0m\u001b[0;34m(\u001b[0m\u001b[0mX\u001b[0m\u001b[0;34m)\u001b[0m\u001b[0;34m\u001b[0m\u001b[0;34m\u001b[0m\u001b[0m\n\u001b[0m\u001b[1;32m    226\u001b[0m \u001b[0;34m\u001b[0m\u001b[0m\n\u001b[1;32m    227\u001b[0m     \u001b[0m_preprocess_data\u001b[0m \u001b[0;34m=\u001b[0m \u001b[0mstaticmethod\u001b[0m\u001b[0;34m(\u001b[0m\u001b[0m_preprocess_data\u001b[0m\u001b[0;34m)\u001b[0m\u001b[0;34m\u001b[0m\u001b[0;34m\u001b[0m\u001b[0m\n",
            "\u001b[0;32m/usr/local/lib/python3.7/dist-packages/sklearn/linear_model/_base.py\u001b[0m in \u001b[0;36m_decision_function\u001b[0;34m(self, X)\u001b[0m\n\u001b[1;32m    207\u001b[0m         \u001b[0mX\u001b[0m \u001b[0;34m=\u001b[0m \u001b[0mcheck_array\u001b[0m\u001b[0;34m(\u001b[0m\u001b[0mX\u001b[0m\u001b[0;34m,\u001b[0m \u001b[0maccept_sparse\u001b[0m\u001b[0;34m=\u001b[0m\u001b[0;34m[\u001b[0m\u001b[0;34m'csr'\u001b[0m\u001b[0;34m,\u001b[0m \u001b[0;34m'csc'\u001b[0m\u001b[0;34m,\u001b[0m \u001b[0;34m'coo'\u001b[0m\u001b[0;34m]\u001b[0m\u001b[0;34m)\u001b[0m\u001b[0;34m\u001b[0m\u001b[0;34m\u001b[0m\u001b[0m\n\u001b[1;32m    208\u001b[0m         return safe_sparse_dot(X, self.coef_.T,\n\u001b[0;32m--> 209\u001b[0;31m                                dense_output=True) + self.intercept_\n\u001b[0m\u001b[1;32m    210\u001b[0m \u001b[0;34m\u001b[0m\u001b[0m\n\u001b[1;32m    211\u001b[0m     \u001b[0;32mdef\u001b[0m \u001b[0mpredict\u001b[0m\u001b[0;34m(\u001b[0m\u001b[0mself\u001b[0m\u001b[0;34m,\u001b[0m \u001b[0mX\u001b[0m\u001b[0;34m)\u001b[0m\u001b[0;34m:\u001b[0m\u001b[0;34m\u001b[0m\u001b[0;34m\u001b[0m\u001b[0m\n",
            "\u001b[0;32m/usr/local/lib/python3.7/dist-packages/sklearn/utils/extmath.py\u001b[0m in \u001b[0;36msafe_sparse_dot\u001b[0;34m(a, b, dense_output)\u001b[0m\n\u001b[1;32m    149\u001b[0m             \u001b[0mret\u001b[0m \u001b[0;34m=\u001b[0m \u001b[0mnp\u001b[0m\u001b[0;34m.\u001b[0m\u001b[0mdot\u001b[0m\u001b[0;34m(\u001b[0m\u001b[0ma\u001b[0m\u001b[0;34m,\u001b[0m \u001b[0mb\u001b[0m\u001b[0;34m)\u001b[0m\u001b[0;34m\u001b[0m\u001b[0;34m\u001b[0m\u001b[0m\n\u001b[1;32m    150\u001b[0m     \u001b[0;32melse\u001b[0m\u001b[0;34m:\u001b[0m\u001b[0;34m\u001b[0m\u001b[0;34m\u001b[0m\u001b[0m\n\u001b[0;32m--> 151\u001b[0;31m         \u001b[0mret\u001b[0m \u001b[0;34m=\u001b[0m \u001b[0ma\u001b[0m \u001b[0;34m@\u001b[0m \u001b[0mb\u001b[0m\u001b[0;34m\u001b[0m\u001b[0;34m\u001b[0m\u001b[0m\n\u001b[0m\u001b[1;32m    152\u001b[0m \u001b[0;34m\u001b[0m\u001b[0m\n\u001b[1;32m    153\u001b[0m     if (sparse.issparse(a) and sparse.issparse(b)\n",
            "\u001b[0;31mValueError\u001b[0m: matmul: Input operand 1 has a mismatch in its core dimension 0, with gufunc signature (n?,k),(k,m?)->(n?,m?) (size 2 is different from 1)"
          ]
        }
      ]
    },
    {
      "cell_type": "code",
      "metadata": {
        "id": "NFvQ0ZBrpeQu"
      },
      "source": [
        ""
      ],
      "execution_count": null,
      "outputs": []
    }
  ]
}