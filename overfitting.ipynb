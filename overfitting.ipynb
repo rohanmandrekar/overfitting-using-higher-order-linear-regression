{
  "nbformat": 4,
  "nbformat_minor": 0,
  "metadata": {
    "colab": {
      "name": "Mandrekar_02.ipynb",
      "provenance": [],
      "collapsed_sections": []
    },
    "kernelspec": {
      "name": "python3",
      "display_name": "Python 3"
    },
    "language_info": {
      "name": "python"
    }
  },
  "cells": [
    {
      "cell_type": "code",
      "metadata": {
        "id": "Up13VRD3yhvs"
      },
      "source": [
        "import numpy as np\n",
        "import matplotlib.pyplot as plt"
      ],
      "execution_count": 142,
      "outputs": []
    },
    {
      "cell_type": "code",
      "metadata": {
        "colab": {
          "base_uri": "https://localhost:8080/",
          "height": 678
        },
        "id": "E5ipn81lmB9b",
        "outputId": "0de50167-a9ae-4ffc-914f-0192d5c2f47f"
      },
      "source": [
        "# rand = np.random.RandomState(20) \n",
        "x=np.random.uniform(0,1,20)\n",
        "print('showing values of x : ',x)\n",
        "\n",
        "plt.hist(x)\n",
        "plt.title('values of x')\n",
        "plt.show()\n",
        "\n",
        "N=np.random.normal(size=20)\n",
        "print('showing values of N : ',N)\n",
        "\n",
        "plt.hist(N)\n",
        "plt.title('values of N')\n",
        "plt.show()\n"
      ],
      "execution_count": 143,
      "outputs": [
        {
          "output_type": "stream",
          "text": [
            "showing values of x :  [0.85401615 0.34409601 0.68976082 0.92302991 0.43278434 0.40212882\n",
            " 0.59903361 0.79117937 0.83925804 0.91499423 0.0527068  0.96750553\n",
            " 0.33990013 0.91356415 0.8493531  0.21377065 0.6665107  0.12408626\n",
            " 0.27870856 0.63184607]\n"
          ],
          "name": "stdout"
        },
        {
          "output_type": "display_data",
          "data": {
            "image/png": "[encoded data removed]",
            "text/plain": [
              "<Figure size 432x288 with 1 Axes>"
            ]
          },
          "metadata": {
            "tags": [],
            "needs_background": "light"
          }
        },
        {
          "output_type": "stream",
          "text": [
            "showing values of N :  [ 0.56356676  0.1736859   0.37634532 -0.73015204  0.24688769  0.57042229\n",
            "  0.36816808  0.67074686  1.76335765  0.35023918  0.55663152  1.84680323\n",
            "  0.79813107 -0.11384804 -0.38957109  0.70080484 -0.59406182 -0.07392294\n",
            " -0.17133512  0.09580308]\n"
          ],
          "name": "stdout"
        },
        {
          "output_type": "display_data",
          "data": {
            "image/png": "[encoded data removed]",
            "text/plain": [
              "<Figure size 432x288 with 1 Axes>"
            ]
          },
          "metadata": {
            "tags": [],
            "needs_background": "light"
          }
        }
      ]
    },
    {
      "cell_type": "code",
      "metadata": {
        "colab": {
          "base_uri": "https://localhost:8080/",
          "height": 596
        },
        "id": "XPiTQg0VmMVu",
        "outputId": "3de1f05c-57e3-4f39-ec80-b9c9f83be73e"
      },
      "source": [
        "import math\n",
        "y=[]\n",
        "for i in range(20):\n",
        "  # print(i)\n",
        "  y.append((math.sin(x[i])*3.142)+(N[i]*0.2))\n",
        "print('Values of y : ',y)\n",
        "\n",
        "plt.hist(y)\n",
        "plt.title('values of y')\n",
        "plt.show()\n",
        "\n",
        "plt.scatter(x,y)\n",
        "plt.title('all data points')\n",
        "plt.xlabel('x')\n",
        "plt.ylabel('y')\n",
        "plt.show()"
      ],
      "execution_count": 144,
      "outputs": [
        {
          "output_type": "stream",
          "text": [
            "Values of y :  [2.4815454831706836, 1.0946777325839319, 2.074689245658128, 2.3595057897224585, 1.3671325040445448, 1.3437948529960244, 1.845233391615937, 2.3686859546722565, 2.690783559922075, 2.5602684302722305, 0.27685441026940555, 2.956712884182836, 1.207146812209768, 2.4647084473578933, 2.2812668712063813, 0.8067243949969006, 1.8237204061461176, 0.3740946761680498, 0.8301420352360785, 1.874937142954212]\n"
          ],
          "name": "stdout"
        },
        {
          "output_type": "display_data",
          "data": {
            "image/png": "[encoded data removed]",
            "text/plain": [
              "<Figure size 432x288 with 1 Axes>"
            ]
          },
          "metadata": {
            "tags": [],
            "needs_background": "light"
          }
        },
        {
          "output_type": "display_data",
          "data": {
            "image/png": "[encoded data removed]",
            "text/plain": [
              "<Figure size 432x288 with 1 Axes>"
            ]
          },
          "metadata": {
            "tags": [],
            "needs_background": "light"
          }
        }
      ]
    },
    {
      "cell_type": "code",
      "metadata": {
        "colab": {
          "base_uri": "https://localhost:8080/"
        },
        "id": "xUZC40UB02av",
        "outputId": "247ee831-766c-46b9-f141-e27c0d62ebc0"
      },
      "source": [
        "train_y=[]\n",
        "test_y=[]\n",
        "train_x=[]\n",
        "test_x=[]\n",
        "for i in range(20):\n",
        "  if(i%2==0):\n",
        "    train_y.append(y[i])\n",
        "    train_x.append(x[i])\n",
        "  else:\n",
        "    test_y.append(y[i])\n",
        "    test_x.append(x[i])\n",
        "\n",
        "print(\"training set for y : \",train_y)\n",
        "print(\"training set for x : \",train_x)\n",
        "print(\"test set for y : \",test_y)\n",
        "print(\"test set for x : \",test_x)\n",
        "\n",
        "train_y=np.array(train_y)\n",
        "test_y=np.array(test_y)\n",
        "train_x=np.array(train_x)\n",
        "test_x=np.array(test_x)\n",
        "\n",
        "train_x=train_x.reshape(-1, 1)\n",
        "train_y=train_y.reshape(-1, 1)\n",
        "test_x=test_x.reshape(-1,1)\n",
        "test_y=test_y.reshape(-1,1)\n",
        "\n",
        "\n",
        "# plt.scatter(x,train_y)\n",
        "# plt.title('Training data points')\n",
        "# plt.xlabel('x')\n",
        "# plt.ylabel('y')\n",
        "# plt.show()\n",
        "\n",
        "# plt.scatter(x,test_set)\n",
        "# plt.title('Training data points')\n",
        "# plt.xlabel('x')\n",
        "# plt.ylabel('y')\n",
        "# plt.show()\n",
        "\n"
      ],
      "execution_count": 145,
      "outputs": [
        {
          "output_type": "stream",
          "text": [
            "training set for y :  [2.4815454831706836, 2.074689245658128, 1.3671325040445448, 1.845233391615937, 2.690783559922075, 0.27685441026940555, 1.207146812209768, 2.2812668712063813, 1.8237204061461176, 0.8301420352360785]\n",
            "training set for x :  [0.8540161494035533, 0.6897608224731946, 0.4327843398292567, 0.5990336094344978, 0.8392580423805753, 0.05270680181985443, 0.33990012613209386, 0.8493531029165209, 0.6665106976011617, 0.2787085647034423]\n",
            "test set for y :  [1.0946777325839319, 2.3595057897224585, 1.3437948529960244, 2.3686859546722565, 2.5602684302722305, 2.956712884182836, 2.4647084473578933, 0.8067243949969006, 0.3740946761680498, 1.874937142954212]\n",
            "test set for x :  [0.3440960091127666, 0.9230299086866511, 0.4021288171353238, 0.7911793688008961, 0.9149942303844848, 0.9675055251705843, 0.9135641539989098, 0.21377064965999037, 0.12408625558601183, 0.6318460744911946]\n"
          ],
          "name": "stdout"
        }
      ]
    },
    {
      "cell_type": "code",
      "metadata": {
        "id": "tzYmgKml2P-5"
      },
      "source": [
        "from sklearn.preprocessing import PolynomialFeatures\n",
        "# from sklearn.pipeline import make_pipeline\n",
        "from sklearn.linear_model import LinearRegression\n",
        "# from sklearn.pipeline import Pipeline\n",
        "# from sklearn.preprocessing import StandardScaler\n",
        "from sklearn.metrics import r2_score\n",
        "from sklearn.metrics import mean_squared_error"
      ],
      "execution_count": 146,
      "outputs": []
    },
    {
      "cell_type": "code",
      "metadata": {
        "id": "5QAjBSXs_5Hm"
      },
      "source": [
        "# train_x=np.array(train_x)\n",
        "# train_y=np.array(train_y)\n",
        "# train_x.reshape(-1)\n",
        "# train_y.reshape(-1)\n",
        "# polyreg=make_pipeline(PolynomialFeatures(9),LinearRegression())\n",
        "# polyreg.fit(train_x,train_y)\n",
        "\n",
        "\n",
        "# reference : https://moonbooks.org/Articles/How-to-implement-a-polynomial-linear-regression-using-scikit-learn-and-python-3-/\n",
        "def Regression(i):\n",
        "    polynomial_features = PolynomialFeatures(degree = i)\n",
        "    x_transf=polynomial_features.fit_transform(train_x)\n",
        "    \n",
        "    model=LinearRegression()\n",
        "    model.fit(x_transf,train_y)\n",
        "\n",
        "    y_new=model.predict(x_transf)\n",
        "\n",
        "    #training error\n",
        "    rmse=np.sqrt(mean_squared_error(train_y,y_new))\n",
        "    #test error\n",
        "    rmse2=np.sqrt(mean_squared_error(test_y,y_new))\n",
        "    \n",
        "    r2=r2_score(test_y,y_new)\n",
        "    \n",
        "    print('RMSE of degree ',i,': ',rmse2)\n",
        "    print('R2 of degree ',i,': ',r2)\n",
        "\n",
        "    return polynomial_features, model\n",
        "\n",
        "\n",
        "\n"
      ],
      "execution_count": 147,
      "outputs": []
    },
    {
      "cell_type": "code",
      "metadata": {
        "colab": {
          "base_uri": "https://localhost:8080/"
        },
        "id": "ILGhaOLVAT_S",
        "outputId": "256697b8-f95a-45a4-9419-5431f71a724e"
      },
      "source": [
        "polynomial0, model0 = Regression(0)\n",
        "weights0=model0.coef_ #https://stackoverflow.com/questions/47303261/getting-weights-of-features-using-scikit-learn-logistic-regression\n",
        "w0=weights0.copy()\n",
        "w0.resize(10,refcheck=False) #https://stackoverflow.com/questions/38191855/zero-pad-numpy-array\n",
        "print('weights for degree 0: ',w0)\n",
        "\n",
        "polynomial1, model1 = Regression(1)\n",
        "weights1=model1.coef_  \n",
        "w1=weights1.copy()\n",
        "w1.resize(10,refcheck=False)\n",
        "print('weights for degree 1: ',w1)\n",
        "\n",
        "polynomial3, model3 = Regression(3)\n",
        "weights3=model3.coef_\n",
        "w3=weights3.copy()\n",
        "w3.resize(10,refcheck=False)\n",
        "print('weights for degree 3: ',w3)\n",
        "\n",
        "polynomial9, model9 = Regression(9)\n",
        "weights9=model9.coef_\n",
        "w9=weights9.copy()\n",
        "w9.resize(10,refcheck=False)\n",
        "print('weights for degree 9: ',w9)\n"
      ],
      "execution_count": 148,
      "outputs": [
        {
          "output_type": "stream",
          "text": [
            "RMSE of degree  0 :  0.8304730846289393\n",
            "R2 of degree  0 :  -0.026144447903677204\n",
            "weights for degree 0:  [0. 0. 0. 0. 0. 0. 0. 0. 0. 0.]\n",
            "RMSE of degree  1 :  1.3290482172651878\n",
            "R2 of degree  1 :  -1.6280816313985436\n",
            "weights for degree 1:  [0.         2.73891137 0.         0.         0.         0.\n",
            " 0.         0.         0.         0.        ]\n",
            "RMSE of degree  3 :  1.3309171710082217\n",
            "R2 of degree  3 :  -1.6354782276754518\n",
            "weights for degree 3:  [ 0.          3.34587628 -1.37795546  0.87688192  0.          0.\n",
            "  0.          0.          0.          0.        ]\n",
            "RMSE of degree  9 :  1.2816588387188688\n",
            "R2 of degree  9 :  -1.4440059008393873\n",
            "weights for degree 9:  [        0.            106754.14451445  -1253506.32226431\n",
            "   7512193.06233714 -26585415.44212332  58962803.21683002\n",
            " -83043333.54836094  72231451.10069895 -35418576.03238063\n",
            "   7492674.26342133]\n"
          ],
          "name": "stdout"
        }
      ]
    },
    {
      "cell_type": "code",
      "metadata": {
        "colab": {
          "base_uri": "https://localhost:8080/"
        },
        "id": "YiaIFxeUnLeL",
        "outputId": "a9525d23-6cf2-4ea8-e860-f6d8fee6f5b9"
      },
      "source": [
        "# https://www.geeksforgeeks.org/creating-tables-with-prettytable-library-python/\n",
        "\n",
        "from prettytable import PrettyTable\n",
        "\n",
        "mytable=PrettyTable()\n",
        "\n",
        "columns=['','Order 0','Order 1','Order 3','Order 9']\n",
        "\n",
        "mytable.add_column(columns[0],['W0','W1','W2','W3','W4','W5','W6','W7','W8','W9'])\n",
        "mytable.add_column(columns[1],w0)\n",
        "mytable.add_column(columns[2],w1)\n",
        "mytable.add_column(columns[3],w3)\n",
        "mytable.add_column(columns[4],w9)\n",
        "\n",
        "print(mytable)"
      ],
      "execution_count": 149,
      "outputs": [
        {
          "output_type": "stream",
          "text": [
            "+----+---------+-------------------+--------------------+---------------------+\n",
            "|    | Order 0 |      Order 1      |      Order 3       |       Order 9       |\n",
            "+----+---------+-------------------+--------------------+---------------------+\n",
            "| W0 |   0.0   |        0.0        |        0.0         |         0.0         |\n",
            "| W1 |   0.0   | 2.738911365985998 | 3.345876284938076  |  106754.14451445124 |\n",
            "| W2 |   0.0   |        0.0        | -1.377955460403016 |  -1253506.322264313 |\n",
            "| W3 |   0.0   |        0.0        | 0.8768819186618131 |  7512193.062337137  |\n",
            "| W4 |   0.0   |        0.0        |        0.0         | -26585415.442123324 |\n",
            "| W5 |   0.0   |        0.0        |        0.0         |  58962803.216830015 |\n",
            "| W6 |   0.0   |        0.0        |        0.0         |  -83043333.54836094 |\n",
            "| W7 |   0.0   |        0.0        |        0.0         |  72231451.10069895  |\n",
            "| W8 |   0.0   |        0.0        |        0.0         |  -35418576.03238063 |\n",
            "| W9 |   0.0   |        0.0        |        0.0         |   7492674.26342133  |\n",
            "+----+---------+-------------------+--------------------+---------------------+\n"
          ],
          "name": "stdout"
        }
      ]
    },
    {
      "cell_type": "code",
      "metadata": {
        "colab": {
          "base_uri": "https://localhost:8080/",
          "height": 1000
        },
        "id": "QtPS_xRjrTUB",
        "outputId": "bcb4b8ce-d595-4115-8b40-de328148ae2d"
      },
      "source": [
        "xnew=np.linspace(0,1,100)\n",
        "xnew=np.array(xnew)\n",
        "xnew=xnew.reshape(-1,1)\n",
        "x_trans0=polynomial0.fit_transform(xnew)\n",
        "y0=model0.predict(x_trans0)\n",
        "plt.scatter(x,y)\n",
        "plt.plot(xnew,y0)\n",
        "plt.show()\n",
        "\n",
        "\n",
        "x_trans1=polynomial1.fit_transform(xnew)\n",
        "y1=model1.predict(x_trans1)\n",
        "plt.scatter(x,y)\n",
        "plt.plot(xnew,y1)\n",
        "plt.show()\n",
        "\n",
        "x_trans3=polynomial3.fit_transform(xnew)\n",
        "y3=model3.predict(x_trans3)\n",
        "plt.scatter(x,y)\n",
        "plt.plot(xnew,y3)\n",
        "plt.show()\n",
        "\n",
        "x_trans9=polynomial9.fit_transform(xnew)\n",
        "y9=model9.predict(x_trans9)\n",
        "plt.scatter(x,y)\n",
        "plt.plot(xnew,y9)\n",
        "plt.show()\n"
      ],
      "execution_count": 150,
      "outputs": [
        {
          "output_type": "display_data",
          "data": {
            "image/png": "[encoded data removed]",
            "text/plain": [
              "<Figure size 432x288 with 1 Axes>"
            ]
          },
          "metadata": {
            "tags": [],
            "needs_background": "light"
          }
        },
        {
          "output_type": "display_data",
          "data": {
            "image/png": "[encoded data removed]",
            "text/plain": [
              "<Figure size 432x288 with 1 Axes>"
            ]
          },
          "metadata": {
            "tags": [],
            "needs_background": "light"
          }
        },
        {
          "output_type": "display_data",
          "data": {
            "image/png": "[encoded data removed]",
            "text/plain": [
              "<Figure size 432x288 with 1 Axes>"
            ]
          },
          "metadata": {
            "tags": [],
            "needs_background": "light"
          }
        },
        {
          "output_type": "display_data",
          "data": {
            "image/png": "[encoded data removed]",
            "text/plain": [
              "<Figure size 432x288 with 1 Axes>"
            ]
          },
          "metadata": {
            "tags": [],
            "needs_background": "light"
          }
        }
      ]
    },
    {
      "cell_type": "code",
      "metadata": {
        "colab": {
          "base_uri": "https://localhost:8080/",
          "height": 352
        },
        "id": "L9lPKtn0Dncj",
        "outputId": "6278fec2-80b3-4b0f-d8eb-aee8adb7d77f"
      },
      "source": [
        "train_errors=[]\n",
        "test_errors=[]\n",
        "print(test_x.shape)\n",
        "print(test_y.shape)\n",
        "\n",
        "for i in range (0,10):\n",
        "  polynomial_features = PolynomialFeatures(degree = i)\n",
        "  x_transf=polynomial_features.fit_transform(train_x)\n",
        "    \n",
        "  model=LinearRegression()\n",
        "  model.fit(x_transf,train_y)\n",
        "\n",
        "  y_new=model.predict(x_transf)\n",
        "\n",
        "  #training error\n",
        "  rmse=np.sqrt(mean_squared_error(train_x,train_y))\n",
        "  #test error\n",
        "  rmse2=np.sqrt(mean_squared_error(test_x,test_y))\n",
        "\n",
        "  train_errors.append(rmse)\n",
        "  test_errors.append(rmse2)\n",
        "\n",
        "\n",
        "print(train_errors)\n",
        "print(test_errors)\n",
        "models= np.linspace(0, 9, 10)\n",
        "plt.plot(models,train_errors,label = 'train error', color = 'blue')\n",
        "plt.plot(models,test_errors,label = 'test error', color = 'red')\n",
        "plt.legend()\n",
        "plt.show()\n",
        "\n",
        "\n",
        "\n",
        "\n"
      ],
      "execution_count": 153,
      "outputs": [
        {
          "output_type": "stream",
          "text": [
            "(10, 1)\n",
            "(10, 1)\n",
            "[1.2213514968053074, 1.2213514968053074, 1.2213514968053074, 1.2213514968053074, 1.2213514968053074, 1.2213514968053074, 1.2213514968053074, 1.2213514968053074, 1.2213514968053074, 1.2213514968053074]\n",
            "[1.3050438046179174, 1.3050438046179174, 1.3050438046179174, 1.3050438046179174, 1.3050438046179174, 1.3050438046179174, 1.3050438046179174, 1.3050438046179174, 1.3050438046179174, 1.3050438046179174]\n"
          ],
          "name": "stdout"
        },
        {
          "output_type": "display_data",
          "data": {
            "image/png": "[encoded data removed]",
            "text/plain": [
              "<Figure size 432x288 with 1 Axes>"
            ]
          },
          "metadata": {
            "tags": [],
            "needs_background": "light"
          }
        }
      ]
    },
    {
      "cell_type": "code",
      "metadata": {
        "id": "NFvQ0ZBrpeQu"
      },
      "source": [
        ""
      ],
      "execution_count": 151,
      "outputs": []
    }
  ]
}